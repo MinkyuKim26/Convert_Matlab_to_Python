{
 "cells": [
  {
   "cell_type": "code",
   "execution_count": 1,
   "metadata": {},
   "outputs": [],
   "source": [
    "import main_Baseline_per_ImageSet as mB_pI"
   ]
  },
  {
   "cell_type": "code",
   "execution_count": 2,
   "metadata": {},
   "outputs": [
    {
     "name": "stdout",
     "output_type": "stream",
     "text": [
      "readingPNG created\n"
     ]
    }
   ],
   "source": [
    "mB_pI.main_Baseline_per_Image_folder('/Users/minguinho/Downloads/DiLiGenT/pmsData/readingPNG')"
   ]
  }
 ],
 "metadata": {
  "interpreter": {
   "hash": "5de1033c4b6bab6c838dd6f2b29357493acb89b798a708ce20db74bb033faa6b"
  },
  "kernelspec": {
   "display_name": "Python 3.8.10 64-bit ('python_tensorflow': conda)",
   "name": "python3"
  },
  "language_info": {
   "codemirror_mode": {
    "name": "ipython",
    "version": 3
   },
   "file_extension": ".py",
   "mimetype": "text/x-python",
   "name": "python",
   "nbconvert_exporter": "python",
   "pygments_lexer": "ipython3",
   "version": "3.8.10"
  },
  "orig_nbformat": 4
 },
 "nbformat": 4,
 "nbformat_minor": 2
}